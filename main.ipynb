{
  "nbformat": 4,
  "nbformat_minor": 0,
  "metadata": {
    "colab": {
      "name": "main.ipynb",
      "provenance": [],
      "authorship_tag": "ABX9TyNgyB9lyMZxWm2XD1ODRwTr",
      "include_colab_link": true
    },
    "kernelspec": {
      "name": "python3",
      "display_name": "Python 3"
    }
  },
  "cells": [
    {
      "cell_type": "markdown",
      "metadata": {
        "id": "view-in-github",
        "colab_type": "text"
      },
      "source": [
        "<a href=\"https://colab.research.google.com/github/nerudxlf/calculation_of_points/blob/main/main.ipynb\" target=\"_parent\"><img src=\"https://colab.research.google.com/assets/colab-badge.svg\" alt=\"Open In Colab\"/></a>"
      ]
    },
    {
      "cell_type": "code",
      "metadata": {
        "id": "kjsKdjpIi_5S"
      },
      "source": [
        "import re\n",
        "import math\n",
        "\n",
        "import pandas as pd\n",
        "from google.colab import files\n",
        "\n",
        "files.upload()"
      ],
      "execution_count": null,
      "outputs": []
    },
    {
      "cell_type": "code",
      "metadata": {
        "id": "AS2LEj9ijEfU"
      },
      "source": [
        "def filter_wos(data: object) -> object:\n",
        "  data = data.filter([\"Article Title\", \"N\"])\n",
        "  data.rename(columns={\"Article Title\": \"Title\", \"N\": \"N_wos\"}, inplace=True)\n",
        "  data_list = data[\"Title\"].to_list()\n",
        "  result_list: list = []\n",
        "  for elem in data_list:\n",
        "    if isinstance(elem, float):\n",
        "      result_list.append(\"not\")\n",
        "      continue\n",
        "    elem = elem.upper()\n",
        "    elem = re.sub(\"[^A-Za-z0-9]\", \"\", elem)\n",
        "    result_list.append(elem)\n",
        "  data[\"KEY\"] = result_list\n",
        "  return data\n",
        "\n",
        "\n",
        "def filter_scopus(data: object) -> object:\n",
        "  data = data.filter([\"Title\", \"N\"])\n",
        "  data_list = data[\"Title\"].to_list()\n",
        "  result_list: list = []\n",
        "  for elem in data_list:\n",
        "    if isinstance(elem, float):\n",
        "      result_list.append(\"not\")\n",
        "      continue\n",
        "    elem = elem.upper()\n",
        "    elem = re.sub(\"[^A-Za-z0-9]\", \"\", elem)\n",
        "    result_list.append(elem)\n",
        "  data[\"KEY\"] = result_list\n",
        "  return data\n",
        "\n",
        "def count_total(data: object, flag: bool, iw1: float, total: float, n: str) -> tuple:\n",
        "  n_list: list = data[n].to_list()\n",
        "  n, mean, summ = 0, 0, 0\n",
        "  for i in n_list:\n",
        "    if math.isnan(float(i)):\n",
        "      continue\n",
        "    if flag and float(i) < 1:\n",
        "      total += float(i) * iw1 * 1.2\n",
        "    else:\n",
        "      total += float(i) * iw1\n",
        "    n += 1\n",
        "    summ += float(i)\n",
        "  mean = summ / n\n",
        "  return total, mean, n"
      ],
      "execution_count": null,
      "outputs": []
    },
    {
      "cell_type": "code",
      "metadata": {
        "id": "aWIgve_Ijx0b",
        "colab": {
          "base_uri": "https://localhost:8080/"
        },
        "outputId": "a7bc389a-6fa4-48a3-924e-c6ad94ffbcfe"
      },
      "source": [
        "iw1_1: float = 140\n",
        "iw2_1: float = 70\n",
        "iw3_1: float = 35.5\n",
        "iw4_1: float = 17.5\n",
        "iw_other_1: float = 7\n",
        "n_wos: str = \"N_wos\"\n",
        "n: str = \"N\"\n",
        "flag: bool = True\n",
        "total: float = 0\n",
        "s1_data = filter_scopus(pd.read_excel(\"s1.xlsx\"))\n",
        "s2_data = filter_scopus(pd.read_excel(\"s2.xlsx\"))\n",
        "s3_data = filter_scopus(pd.read_excel(\"s3.xlsx\"))\n",
        "s4_data = filter_scopus(pd.read_excel(\"s4.xlsx\"))\n",
        "s_none_data = filter_scopus(pd.read_excel(\"s_none.xlsx\"))\n",
        "w1_data = filter_wos(pd.read_excel(\"w1.xlsx\"))\n",
        "w2_data = filter_wos(pd.read_excel(\"w2.xlsx\"))\n",
        "w3_data = filter_wos(pd.read_excel(\"w3.xlsx\"))\n",
        "w4_data = filter_wos(pd.read_excel(\"w4.xlsx\"))\n",
        "w_none_data = filter_wos(pd.read_excel(\"w_none.xlsx\"))\n",
        "\n",
        "total, mean_w1, v_w1 = count_total(w1_data, flag, iw1_1, total, n_wos)\n",
        "print(len(w1_data.index))\n",
        "total, mean_w2, v_w2 = count_total(w2_data, flag, iw2_1, total, n_wos)\n",
        "print(len(w2_data.index))\n",
        "total, mean_w3, v_w3 = count_total(w3_data, flag, iw3_1, total, n_wos)\n",
        "print(len(w3_data.index))\n",
        "total, mean_w4, v_w4 = count_total(w4_data, flag, iw4_1, total, n_wos)\n",
        "print(len(w4_data.index))\n",
        "total, mean_w_none, v_w_none = count_total(w_none_data, flag, iw_other_1, total, n_wos)\n",
        "print(len(w_none_data.index))\n",
        "all_data = pd.concat(\n",
        "    [s1_data, s2_data, s3_data, s4_data, s_none_data, w1_data, w2_data, w3_data, w4_data, w_none_data])\n",
        "df_data = all_data.filter([\"KEY\"])\n",
        "print(len(df_data.index))\n",
        "df_data = df_data.drop_duplicates(keep=False, subset=[\"KEY\"])\n",
        "print(len(df_data.index))\n",
        "result_data = pd.merge(left=df_data, right=all_data, left_on=\"KEY\", right_on=\"KEY\")\n",
        "print(len(result_data.index), len(all_data.index))\n",
        "total, mean_s, v_s = count_total(result_data, flag, iw_other_1, total, n)\n",
        "print(total)\n",
        "print(f\"mean w1: {round(mean_w1, 3)}, value: {v_w1}\")\n",
        "print(f\"mean w2: {round(mean_w2, 3)}, value: {v_w2}\")\n",
        "print(f\"mean w3: {round(mean_w3, 3)}, value: {v_w3}\")\n",
        "print(f\"mean w4: {round(mean_w4, 3)}, value: {v_w4}\")\n",
        "print(f\"mean w n: {round(mean_w_none, 3)}, value: {v_w_none}\")\n",
        "print(f\"mean s: {round(mean_s, 3)}, value: {v_s}\")\n",
        "result_data.to_excel(\"all_data.xlsx\", index=False)"
      ],
      "execution_count": null,
      "outputs": [
        {
          "output_type": "stream",
          "text": [
            "total w1 = 398.09\n",
            "total w2 + w1 = 646.78, w2 = 248.69\n",
            "total w3 + w2 + w1 = 717.08, w3 = 70.3\n",
            "total w4 + w3 + w2 + w1 = 758.38, w4 = 41.3\n",
            "total w_none + w4 + w3 + w2 + w1 = 1425.31, w_none = 666.93\n",
            "total S - w_none - w4 - w3 - w2 - w1 = 2792.1\n"
          ],
          "name": "stdout"
        }
      ]
    }
  ]
}
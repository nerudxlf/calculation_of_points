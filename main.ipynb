{
  "nbformat": 4,
  "nbformat_minor": 0,
  "metadata": {
    "colab": {
      "name": "main.ipynb",
      "provenance": [],
      "authorship_tag": "ABX9TyPNYocNcuO6YbYfrV8IWaj5",
      "include_colab_link": true
    },
    "kernelspec": {
      "name": "python3",
      "display_name": "Python 3"
    }
  },
  "cells": [
    {
      "cell_type": "markdown",
      "metadata": {
        "id": "view-in-github",
        "colab_type": "text"
      },
      "source": [
        "<a href=\"https://colab.research.google.com/github/nerudxlf/calculation_of_points/blob/main/main.ipynb\" target=\"_parent\"><img src=\"https://colab.research.google.com/assets/colab-badge.svg\" alt=\"Open In Colab\"/></a>"
      ]
    },
    {
      "cell_type": "code",
      "metadata": {
        "id": "kjsKdjpIi_5S"
      },
      "source": [
        "import re\r\n",
        "import math\r\n",
        "\r\n",
        "import pandas as pd\r\n",
        "\r\n",
        "files.upload()"
      ],
      "execution_count": null,
      "outputs": []
    },
    {
      "cell_type": "code",
      "metadata": {
        "id": "AS2LEj9ijEfU"
      },
      "source": [
        "def filter_wos(data: object) -> object:\r\n",
        "  data = data.filter([ \"Article Title\", \"N\"])\r\n",
        "  data.rename(columns={\"Article Title\": \"Title\", \"N\": \"N_wos\"}, inplace=True)\r\n",
        "  data_list = data[\"Title\"].to_list()\r\n",
        "  result_list: list = []\r\n",
        "  for elem in data_list:\r\n",
        "    if isinstance(elem, float):\r\n",
        "      result_list.append(\"not\")\r\n",
        "      continue\r\n",
        "    elem = elem.upper()\r\n",
        "    elem = re.sub(\"[^A-Za-z0-9]\", \"\", elem)\r\n",
        "    result_list.append(elem)\r\n",
        "  data[\"KEY\"] = result_list\r\n",
        "  return data\r\n",
        "\r\n",
        "\r\n",
        "def filter_scopus(data: object) -> object:\r\n",
        "  data = data.filter([\"Title\", \"N\"])\r\n",
        "  data_list = data[\"Title\"].to_list()\r\n",
        "  result_list: list = []\r\n",
        "  for elem in data_list:\r\n",
        "    if isinstance(elem, float):\r\n",
        "      result_list.append(\"not\")\r\n",
        "      continue\r\n",
        "    elem = elem.upper()\r\n",
        "    elem = re.sub(\"[^A-Za-z0-9]\", \"\", elem)\r\n",
        "    result_list.append(elem)\r\n",
        "  data[\"KEY\"] = result_list\r\n",
        "  return data\r\n",
        "\r\n",
        "\r\n",
        "def count_total(data: object, flag: bool, iw1: float, total: float, n: str) -> float:\r\n",
        "  n_list = data[\"N\"].to_list()\r\n",
        "  for i in n_list:\r\n",
        "    if math.isnan(float(i)):\r\n",
        "      continue\r\n",
        "    if flag and float(i) < 1:\r\n",
        "      total += float(i) * iw1\r\n",
        "    else:\r\n",
        "      total += float(i) * iw2\r\n",
        "  return total"
      ],
      "execution_count": null,
      "outputs": []
    },
    {
      "cell_type": "code",
      "metadata": {
        "id": "aWIgve_Ijx0b"
      },
      "source": [
        "iw1_1: float = 138\r\n",
        "iw2_1: float = 51.1\r\n",
        "iw3_1: float = 18.9\r\n",
        "iw4_1: float = 7\r\n",
        "iw_other_1: float = 7\r\n",
        "n_wos: str = \"N_wos\"\r\n",
        "n: str = \"N\"\r\n",
        "flag: bool = False\r\n",
        "total: float = 0\r\n",
        "\r\n",
        "s1_data = filter_scopus(pd.read_excel(\"s1.xlsx\"))\r\n",
        "s2_data = filter_scopus(pd.read_excel(\"s2.xlsx\"))\r\n",
        "s3_data = filter_scopus(pd.read_excel(\"s3.xlsx\"))\r\n",
        "s4_data = filter_scopus(pd.read_excel(\"s4.xlsx\"))\r\n",
        "s_none_data = filter_scopus(pd.read_excel(\"s_none.xlsx\"))\r\n",
        "w1_data = filter_wos(pd.read_excel(\"w1.xlsx\"))\r\n",
        "w2_data = filter_wos(pd.read_excel(\"w2.xlsx\"))\r\n",
        "w3_data = filter_wos(pd.read_excel(\"w3.xlsx\"))\r\n",
        "w4_data = filter_wos(pd.read_excel(\"w4.xlsx\"))\r\n",
        "w_none_data = filter_wos(pd.read_excel(\"w_none.xlsx\"))\r\n",
        "\r\n",
        "total = count_total(w1_data, flag, iw1_1, total, n_wos)\r\n",
        "total = count_total(w2_data, flag, iw2_1, total, n_wos)\r\n",
        "total = count_total(w3_data, flag, iw3_1, total, n_wos)\r\n",
        "total = count_total(w4_data, flag, iw4_1, total, n_wos)\r\n",
        "total = count_total(w_none_data, flag, iw_other_1, total, n_wos)\r\n",
        "print(total)\r\n",
        "all_data = pd.concat(\r\n",
        "    [s1_data, s2_data, s3_data, s4_data, s_none_data, w1_data, w2_data, w3_data, w4_data, w_none_data])\r\n",
        "df_data = all_data.filter([\"KEY\"])\r\n",
        "df_data = df_data.drop_duplicates(keep=False)\r\n",
        "result_data = pd.merge(left=df_data, right=all_data, left_on=\"KEY\", right_on=\"KEY\")\r\n",
        "total = count_total(result_data, flag, iw_other_1, total, n)\r\n",
        "result_data.to_excel(\"all_data.xlsx\", index=False)"
      ],
      "execution_count": null,
      "outputs": []
    }
  ]
}